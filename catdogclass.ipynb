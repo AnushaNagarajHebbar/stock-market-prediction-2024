{
 "cells": [
  {
   "cell_type": "code",
   "execution_count": 4,
   "id": "b4f297d9",
   "metadata": {},
   "outputs": [
    {
     "name": "stdout",
     "output_type": "stream",
     "text": [
      "Requirement already satisfied: opencv-python in /home/ailab/anaconda3/lib/python3.10/site-packages (4.9.0.80)\r\n",
      "Requirement already satisfied: numpy>=1.19.3 in /home/ailab/anaconda3/lib/python3.10/site-packages (from opencv-python) (1.23.5)\r\n"
     ]
    }
   ],
   "source": [
    "!pip install opencv-python"
   ]
  },
  {
   "cell_type": "code",
   "execution_count": 5,
   "id": "68935d41",
   "metadata": {},
   "outputs": [],
   "source": [
    "import os\n",
    "import cv2\n",
    "import numpy as np\n",
    "from skimage.feature import hog\n",
    "from sklearn.model_selection import train_test_split\n",
    "from sklearn.neighbors import KNeighborsClassifier\n",
    "from sklearn.metrics import accuracy_score"
   ]
  },
  {
   "cell_type": "code",
   "execution_count": 6,
   "id": "93f403d6",
   "metadata": {},
   "outputs": [],
   "source": [
    "def resize_image(image, size=(128, 128)):\n",
    "    return cv2.resize(image, size)\n"
   ]
  },
  {
   "cell_type": "code",
   "execution_count": 7,
   "id": "c0c21725",
   "metadata": {},
   "outputs": [],
   "source": [
    "def extract_hog_features(image):\n",
    "    return hog(image, orientations=9, pixels_per_cell=(8, 8), cells_per_block=(2, 2), visualize=False)"
   ]
  },
  {
   "cell_type": "code",
   "execution_count": null,
   "id": "af7e3808",
   "metadata": {},
   "outputs": [],
   "source": [
    "def load_images_and_extract_features(directory, label):\n",
    "    images = []\n",
    "    labels = []\n",
    "    for file_name in os.listdir(directory)[:10]:  \n",
    "        file_path = os.path.join(directory, file_name)\n",
    "        if os.path.isfile(file_path):\n",
    "            image = cv2.imread(file_path)\n",
    "            if image is not None:\n",
    "               \n",
    "                gray_image = cv2.cvtColor(image, cv2.COLOR_BGR2GRAY)\n",
    "                resized_image = resize_image(gray_image)\n",
    "                hog_features = extract_hog_features(resized_image)\n",
    "                images.append(hog_features)\n",
    "                labels.append(label)\n",
    "            else:\n",
    "                print(f\"Error loading image: {file_path}\")\n",
    "        else:\n",
    "            print(f\"Skipping directory: {file_path}\")\n",
    "    return images, labels\n",
    "\n",
    "    num_images = len(images)\n",
    "    num_cols = 5  # Number of columns in the grid\n",
    "    num_rows = (num_images + num_cols - 1) // num_cols  # Calculate number of rows needed"
   ]
  }
 ],
 "metadata": {
  "kernelspec": {
   "display_name": "Python 3 (ipykernel)",
   "language": "python",
   "name": "python3"
  },
  "language_info": {
   "codemirror_mode": {
    "name": "ipython",
    "version": 3
   },
   "file_extension": ".py",
   "mimetype": "text/x-python",
   "name": "python",
   "nbconvert_exporter": "python",
   "pygments_lexer": "ipython3",
   "version": "3.10.9"
  }
 },
 "nbformat": 4,
 "nbformat_minor": 5
}
